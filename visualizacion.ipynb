{
 "cells": [
  {
   "attachments": {},
   "cell_type": "markdown",
   "id": "57a90ea1-3aff-40af-bc8a-fdc01da029a7",
   "metadata": {},
   "source": [
    "## *Laboratorio 2, parte 2*\n",
    "Daniel Behar, Cruz del Cid"
   ]
  },
  {
   "cell_type": "markdown",
   "id": "80bdb610-bcc3-41fe-8056-233ed822eaa3",
   "metadata": {},
   "source": [
    "## Escalamiento Multidimensional"
   ]
  },
  {
   "cell_type": "code",
   "execution_count": 1,
   "id": "635f1e2c-f5c2-400d-b45b-fd4aa9bea6b6",
   "metadata": {},
   "outputs": [],
   "source": [
    "import numpy as np\n",
    "import pandas as pd\n",
    "import matplotlib.pyplot as plt"
   ]
  },
  {
   "cell_type": "code",
   "execution_count": 2,
   "id": "21fb1e06-bd46-4d3c-b1c7-22cf15341143",
   "metadata": {},
   "outputs": [
    {
     "name": "stdout",
     "output_type": "stream",
     "text": [
      "['Murder', 'Rape', 'Robbery', 'Assault', 'Burglary', 'Larceny', 'Auto theft']\n",
      "[[1.   0.52 0.34 0.81 0.28 0.06 0.11]\n",
      " [0.52 1.   0.55 0.7  0.68 0.6  0.44]\n",
      " [0.34 0.55 1.   0.56 0.62 0.44 0.62]\n",
      " [0.81 0.7  0.56 1.   0.52 0.32 0.33]\n",
      " [0.28 0.68 0.62 0.52 1.   0.8  0.7 ]\n",
      " [0.06 0.6  0.44 0.32 0.8  1.   0.55]\n",
      " [0.11 0.44 0.62 0.33 0.7  0.55 1.  ]]\n"
     ]
    }
   ],
   "source": [
    "# Extraccion de datos y procesamiento\n",
    "\n",
    "data = pd.read_csv(\"datasets/crimes.csv\")\n",
    "\n",
    "names = list(data.loc[:,\"Crime\"])\n",
    "print(names)\n",
    "\n",
    "datos = data.iloc[:,2:9]\n",
    "datos = np.array(datos)\n",
    "print(datos)"
   ]
  },
  {
   "cell_type": "code",
   "execution_count": 3,
   "id": "bee55159",
   "metadata": {},
   "outputs": [
    {
     "name": "stdout",
     "output_type": "stream",
     "text": [
      "[[ 0.857 -0.143 -0.143 -0.143 -0.143 -0.143 -0.143]\n",
      " [-0.143  0.857 -0.143 -0.143 -0.143 -0.143 -0.143]\n",
      " [-0.143 -0.143  0.857 -0.143 -0.143 -0.143 -0.143]\n",
      " [-0.143 -0.143 -0.143  0.857 -0.143 -0.143 -0.143]\n",
      " [-0.143 -0.143 -0.143 -0.143  0.857 -0.143 -0.143]\n",
      " [-0.143 -0.143 -0.143 -0.143 -0.143  0.857 -0.143]\n",
      " [-0.143 -0.143 -0.143 -0.143 -0.143 -0.143  0.857]]\n"
     ]
    }
   ],
   "source": [
    "# Construyendo la matriz de proyeccion J\n",
    "n = datos.shape[0]\n",
    "J = np.eye(n) - (1./n)*np.ones((n,n))\n",
    "print(np.round(J,3))"
   ]
  },
  {
   "cell_type": "code",
   "execution_count": 5,
   "id": "737a4be3-5928-4b95-8e16-6caf3a6068f0",
   "metadata": {},
   "outputs": [
    {
     "name": "stdout",
     "output_type": "stream",
     "text": [
      "[[-0.34 -0.    0.06 -0.17  0.12  0.18  0.15]\n",
      " [-0.   -0.15  0.05 -0.01  0.02  0.    0.08]\n",
      " [ 0.06  0.05 -0.2   0.03  0.03  0.06 -0.03]\n",
      " [-0.17 -0.01  0.03 -0.18  0.08  0.13  0.12]\n",
      " [ 0.12  0.02  0.03  0.08 -0.13 -0.09 -0.04]\n",
      " [ 0.18  0.    0.06  0.13 -0.09 -0.25 -0.02]\n",
      " [ 0.15  0.08 -0.03  0.12 -0.04 -0.02 -0.25]]\n"
     ]
    }
   ],
   "source": [
    "# Calculando la matriz de Gram\n",
    "G = -0.5* J @ datos @ J\n",
    "print(np.round(G,2))"
   ]
  },
  {
   "cell_type": "markdown",
   "id": "a7462eb9-2d95-42c5-ae16-537a81264b5e",
   "metadata": {},
   "source": [
    "## SVD"
   ]
  },
  {
   "cell_type": "code",
   "execution_count": 6,
   "id": "646a98cf-13a8-4298-af01-0ba90c7ea3ec",
   "metadata": {},
   "outputs": [],
   "source": [
    "U, S, V = np.linalg.svd(G)"
   ]
  },
  {
   "cell_type": "code",
   "execution_count": 7,
   "id": "2ed05d52-2957-4fa5-a0d6-bb2d118ee413",
   "metadata": {},
   "outputs": [
    {
     "name": "stdout",
     "output_type": "stream",
     "text": [
      "[[-0.637  0.005 -0.36   0.223 -0.301  0.426  0.378]\n",
      " [-0.088 -0.379  0.357 -0.738 -0.106  0.151  0.378]\n",
      " [ 0.073  0.583  0.654  0.241 -0.122  0.107  0.378]\n",
      " [-0.428 -0.011  0.01   0.052  0.381 -0.725  0.378]\n",
      " [ 0.285 -0.172 -0.099  0.183  0.724  0.424  0.378]\n",
      " [ 0.416 -0.506 -0.009  0.413 -0.444 -0.245  0.378]\n",
      " [ 0.379  0.48  -0.553 -0.375 -0.132 -0.138  0.378]]\n",
      "\n",
      "[0.719 0.318 0.177 0.127 0.083 0.07  0.   ]\n",
      "\n",
      "[[ 0.637  0.088 -0.073  0.428 -0.285 -0.416 -0.379]\n",
      " [-0.005  0.379 -0.583  0.011  0.172  0.506 -0.48 ]\n",
      " [ 0.36  -0.357 -0.654 -0.01   0.099  0.009  0.553]\n",
      " [-0.223  0.738 -0.241 -0.052 -0.183 -0.413  0.375]\n",
      " [ 0.301  0.106  0.122 -0.381 -0.724  0.444  0.132]\n",
      " [-0.426 -0.151 -0.107  0.725 -0.424  0.245  0.138]\n",
      " [-0.378 -0.378 -0.378 -0.378 -0.378 -0.378 -0.378]]\n"
     ]
    }
   ],
   "source": [
    "print(np.round(U, 3))\n",
    "print('')\n",
    "print(np.round(S, 3))\n",
    "print('')\n",
    "print(np.round(V, 3))"
   ]
  },
  {
   "cell_type": "markdown",
   "id": "2164c9af-944f-46a7-9d8d-94ad0f7c0712",
   "metadata": {},
   "source": [
    "#### Proyección a dos componente principales"
   ]
  },
  {
   "cell_type": "code",
   "execution_count": 9,
   "id": "252caf2b-df63-4080-9140-9912d0a46f78",
   "metadata": {},
   "outputs": [
    {
     "data": {
      "text/plain": [
       "array([[ 0.85821071,  0.02897174],\n",
       "       [ 0.06843137,  0.27295493],\n",
       "       [-0.16299937, -0.33846526],\n",
       "       [ 0.55839098,  0.03906514],\n",
       "       [-0.46759718,  0.14114098],\n",
       "       [-0.65675518,  0.35339935],\n",
       "       [-0.60231354, -0.27333883]])"
      ]
     },
     "execution_count": 9,
     "metadata": {},
     "output_type": "execute_result"
    }
   ],
   "source": [
    "P = datos @ V.T[:,:2]\n",
    "P"
   ]
  },
  {
   "cell_type": "code",
   "execution_count": 10,
   "id": "3a3ea943-23fa-4e9f-97f0-88935b7c4125",
   "metadata": {},
   "outputs": [
    {
     "data": {
      "image/png": "[encoded data removed]",
      "text/plain": [
       "<Figure size 600x600 with 1 Axes>"
      ]
     },
     "metadata": {},
     "output_type": "display_data"
    }
   ],
   "source": [
    "plt.figure(figsize=(6,6))\n",
    "plt.plot(P[:,0], P[:,1], 'ko')\n",
    "for i in np.arange(0, P.shape[0]):\n",
    "    plt.annotate(names[i], (P[i,0], P[i,1]))\n",
    "plt.show()"
   ]
  },
  {
   "attachments": {},
   "cell_type": "markdown",
   "id": "e5801a76",
   "metadata": {},
   "source": [
    "### Definiones que manejaremos con los tipos de crimenes:\n",
    "- Larceny: robo de propiedad sin entrar a una casa (ej: robo de bolso en un centro comercial)\n",
    "- Burglary: robo de objetos pequeños estilo pit pocket (ej: robo de anillos dentro de un bolso)\n",
    "- Rape: violaciones\n",
    "- Assault: robo de propiedad a mano armada\n",
    "- Murder: asesinato\n",
    "- Auto Theft: robo de vehiculos\n",
    "- Robbery: robos de lugares\n",
    "\n",
    "Interpretaciones:\n",
    "- X: mas negativo implica que es mas secreto y mas positivo implica que es evidente para la victima. Un robo mas secreto implica que el criminal no quiere que la victima se de cuenta del atraco y el derecho es imposible que la victima no se entere\n",
    "- Y: mas negativo implica que la victima no necesariamente esta alli y mas positivo que la victima si estaba presente en el momento"
   ]
  },
  {
   "attachments": {},
   "cell_type": "markdown",
   "id": "ae02f426",
   "metadata": {},
   "source": [
    "Por ejemplo, rape esta en el limite de X porque si la persona estaba drogada, hay probabilidades de que no se de cuenta totalmente de lo que paso, pero despues si será evidente la violacion"
   ]
  }
 ],
 "metadata": {
  "kernelspec": {
   "display_name": "Python 3",
   "language": "python",
   "name": "python3"
  },
  "language_info": {
   "codemirror_mode": {
    "name": "ipython",
    "version": 3
   },
   "file_extension": ".py",
   "mimetype": "text/x-python",
   "name": "python",
   "nbconvert_exporter": "python",
   "pygments_lexer": "ipython3",
   "version": "3.9.13"
  },
  "vscode": {
   "interpreter": {
    "hash": "a9960baf88259386db57c734c8604c8e4ab789688672644b3cf73fda24b112c6"
   }
  }
 },
 "nbformat": 4,
 "nbformat_minor": 5
}
